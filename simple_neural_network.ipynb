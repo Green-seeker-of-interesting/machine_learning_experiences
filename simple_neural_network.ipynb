{
 "cells": [
  {
   "cell_type": "code",
   "execution_count": 1,
   "metadata": {},
   "outputs": [],
   "source": [
    "import numpy as np\n",
    "from sklearn.metrics import accuracy_score, confusion_matrix"
   ]
  },
  {
   "cell_type": "code",
   "execution_count": 2,
   "metadata": {},
   "outputs": [],
   "source": [
    "import dataset as ds"
   ]
  },
  {
   "cell_type": "code",
   "execution_count": 4,
   "metadata": {},
   "outputs": [],
   "source": [
    "from keras.models import Sequential;\n",
    "from keras.layers.core import Dense;"
   ]
  },
  {
   "cell_type": "code",
   "execution_count": 39,
   "metadata": {},
   "outputs": [
    {
     "data": {
      "text/plain": [
       "(70000, 3072)"
      ]
     },
     "execution_count": 39,
     "metadata": {},
     "output_type": "execute_result"
    }
   ],
   "source": [
    "# Исходные данные \n",
    "x_train, y_train = ds.load_data_mat(filename=\"data/train_32x32.mat\", max_samples=70000)\n",
    "vektors_train = ds.extension_to_vector(x_train)\n",
    "vektors_y = ds.disclosure_to_vector(y_train) \n",
    "vektors_train.shape"
   ]
  },
  {
   "cell_type": "code",
   "execution_count": 40,
   "metadata": {},
   "outputs": [],
   "source": [
    "model = Sequential()\n",
    "model.add(Dense(units=10, activation='relu', input_dim=3072))\n",
    "model.add(Dense(units=10, activation='softmax'))"
   ]
  },
  {
   "cell_type": "code",
   "execution_count": 41,
   "metadata": {},
   "outputs": [],
   "source": [
    "model.compile(loss='categorical_crossentropy', optimizer='sgd', metrics=['accuracy'])"
   ]
  },
  {
   "cell_type": "code",
   "execution_count": 42,
   "metadata": {},
   "outputs": [
    {
     "name": "stdout",
     "output_type": "stream",
     "text": [
      "Epoch 1/10\n"
     ]
    },
    {
     "name": "stderr",
     "output_type": "stream",
     "text": [
      "2022-11-08 15:35:34.529879: W tensorflow/core/framework/cpu_allocator_impl.cc:82] Allocation of 860160000 exceeds 10% of free system memory.\n"
     ]
    },
    {
     "name": "stdout",
     "output_type": "stream",
     "text": [
      "700/700 [==============================] - 3s 3ms/step - loss: 4.4009 - accuracy: 0.1871\n",
      "Epoch 2/10\n",
      "700/700 [==============================] - 2s 3ms/step - loss: 2.2433 - accuracy: 0.1889\n",
      "Epoch 3/10\n",
      "700/700 [==============================] - 2s 3ms/step - loss: 2.2382 - accuracy: 0.1889\n",
      "Epoch 4/10\n",
      "700/700 [==============================] - 2s 3ms/step - loss: 2.2371 - accuracy: 0.1889\n",
      "Epoch 5/10\n",
      "700/700 [==============================] - 2s 3ms/step - loss: 2.2368 - accuracy: 0.1889\n",
      "Epoch 6/10\n",
      "700/700 [==============================] - 2s 3ms/step - loss: 2.2368 - accuracy: 0.1889\n",
      "Epoch 7/10\n",
      "700/700 [==============================] - 2s 3ms/step - loss: 2.2367 - accuracy: 0.1889\n",
      "Epoch 8/10\n",
      "700/700 [==============================] - 2s 3ms/step - loss: 2.2367 - accuracy: 0.1889\n",
      "Epoch 9/10\n",
      "700/700 [==============================] - 2s 3ms/step - loss: 2.2367 - accuracy: 0.1889\n",
      "Epoch 10/10\n",
      "700/700 [==============================] - 2s 3ms/step - loss: 2.2367 - accuracy: 0.1889\n"
     ]
    },
    {
     "data": {
      "text/plain": [
       "<keras.callbacks.History at 0x7fac98e96910>"
      ]
     },
     "execution_count": 42,
     "metadata": {},
     "output_type": "execute_result"
    }
   ],
   "source": [
    "model.fit(vektors_train, vektors_y, epochs=10, batch_size=100)"
   ]
  }
 ],
 "metadata": {
  "kernelspec": {
   "display_name": "Python 3.9.2 ('env': venv)",
   "language": "python",
   "name": "python3"
  },
  "language_info": {
   "codemirror_mode": {
    "name": "ipython",
    "version": 3
   },
   "file_extension": ".py",
   "mimetype": "text/x-python",
   "name": "python",
   "nbconvert_exporter": "python",
   "pygments_lexer": "ipython3",
   "version": "3.9.2"
  },
  "orig_nbformat": 4,
  "vscode": {
   "interpreter": {
    "hash": "23116eaa4cb0f90578a771e304b97b3f86ec7d55b095c3565a393e7e1c17f531"
   }
  }
 },
 "nbformat": 4,
 "nbformat_minor": 2
}
